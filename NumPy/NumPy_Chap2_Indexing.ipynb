{
 "cells": [
  {
   "cell_type": "markdown",
   "id": "13963d2a",
   "metadata": {},
   "source": [
    "# 2-1. 배열의 index 접근하기"
   ]
  },
  {
   "cell_type": "code",
   "execution_count": 2,
   "id": "7f449758",
   "metadata": {},
   "outputs": [],
   "source": [
    "import numpy as np"
   ]
  },
  {
   "cell_type": "code",
   "execution_count": 10,
   "id": "22a2006a",
   "metadata": {},
   "outputs": [
    {
     "name": "stdout",
     "output_type": "stream",
     "text": [
      "7 8 [0 1 2 3]\n"
     ]
    }
   ],
   "source": [
    "# 1차원 배열 indexing ( index는 0부터 )\n",
    "arr = np.arange(10)\n",
    "print(arr[7], arr[-2], arr[:4])"
   ]
  },
  {
   "cell_type": "code",
   "execution_count": 17,
   "id": "2378837e",
   "metadata": {},
   "outputs": [
    {
     "name": "stdout",
     "output_type": "stream",
     "text": [
      "3 [1 2 3]\n"
     ]
    }
   ],
   "source": [
    "# 2차원 배열 indexing \n",
    "arr = np.array([[1,2,3,4],[5,6,7,8]])\n",
    "print(arr[0][2], arr[0, :3]) # 0행 2열, 0행 0~2열까지"
   ]
  },
  {
   "cell_type": "markdown",
   "id": "d5d381e3",
   "metadata": {},
   "source": [
    "# 2-2. Fancy Indexing\n",
    "특정 인덱스를 여러개 선택해서 탐색"
   ]
  },
  {
   "cell_type": "code",
   "execution_count": 18,
   "id": "b5bd1b5e",
   "metadata": {},
   "outputs": [
    {
     "name": "stdout",
     "output_type": "stream",
     "text": [
      "[ 5 15 20]\n"
     ]
    }
   ],
   "source": [
    "# 1차원 배열 fancy indexing -> [[]] 사용\n",
    "arr = np.array([5, 10, 15, 20, 25, 30])\n",
    "print(arr[[0,2,3]])"
   ]
  },
  {
   "cell_type": "code",
   "execution_count": 21,
   "id": "f6c0bd4a",
   "metadata": {},
   "outputs": [
    {
     "name": "stdout",
     "output_type": "stream",
     "text": [
      "[[ 3  4]\n",
      " [11 12]] [[ 7  8]\n",
      " [11 12]]\n"
     ]
    }
   ],
   "source": [
    "# 2차원 배열 fancy indexing \n",
    "arr = np.array([[1,2,3,4],\n",
    "                [5,6,7,8],\n",
    "                [9,10,11,12]])\n",
    "print(arr[[0,2], 2:]) # 0~1행 2열부터\n",
    "print(arr[1:, [2,3]]) # 1행부터 2,3열 "
   ]
  },
  {
   "cell_type": "markdown",
   "id": "3a75a23c",
   "metadata": {},
   "source": [
    "# 2-3. Boolean Indexing "
   ]
  },
  {
   "cell_type": "code",
   "execution_count": 22,
   "id": "aba0acb3",
   "metadata": {},
   "outputs": [
    {
     "name": "stdout",
     "output_type": "stream",
     "text": [
      "[1 3 4]\n"
     ]
    }
   ],
   "source": [
    "arr = np.array([1,2,3,4])\n",
    "print(arr[[True,False,True,True]]) # True에 해당하는 값만 가져옴"
   ]
  },
  {
   "cell_type": "code",
   "execution_count": 23,
   "id": "9c243aea",
   "metadata": {},
   "outputs": [
    {
     "name": "stdout",
     "output_type": "stream",
     "text": [
      "[[1 2 3 4]]\n"
     ]
    }
   ],
   "source": [
    "arr = np.array([[1,2,3,4],\n",
    "                [5,6,7,8]])\n",
    "print(arr[[True,False], True]) # 0행만 전부 가져옴"
   ]
  },
  {
   "cell_type": "code",
   "execution_count": 25,
   "id": "2b4013cb",
   "metadata": {},
   "outputs": [
    {
     "name": "stdout",
     "output_type": "stream",
     "text": [
      "[4 5 6 7 8]\n"
     ]
    }
   ],
   "source": [
    "# 조건 연산자로 값 가져오기 ( 아예 풀어서 가져옴 )\n",
    "print(arr[arr>3])"
   ]
  }
 ],
 "metadata": {
  "kernelspec": {
   "display_name": "Python 3 (ipykernel)",
   "language": "python",
   "name": "python3"
  },
  "language_info": {
   "codemirror_mode": {
    "name": "ipython",
    "version": 3
   },
   "file_extension": ".py",
   "mimetype": "text/x-python",
   "name": "python",
   "nbconvert_exporter": "python",
   "pygments_lexer": "ipython3",
   "version": "3.8.5"
  }
 },
 "nbformat": 4,
 "nbformat_minor": 5
}

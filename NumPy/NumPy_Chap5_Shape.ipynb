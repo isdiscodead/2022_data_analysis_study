{
 "cells": [
  {
   "cell_type": "code",
   "execution_count": 2,
   "id": "f2231cc5",
   "metadata": {},
   "outputs": [],
   "source": [
    "import numpy as np"
   ]
  },
  {
   "cell_type": "markdown",
   "id": "397221bc",
   "metadata": {},
   "source": [
    "### 5-1. 배열의 형태 변경 : reshape()"
   ]
  },
  {
   "cell_type": "code",
   "execution_count": 3,
   "id": "344c283b",
   "metadata": {},
   "outputs": [
    {
     "name": "stdout",
     "output_type": "stream",
     "text": [
      "[ 0  1  2  3  4  5  6  7  8  9 10 11] 1\n"
     ]
    }
   ],
   "source": [
    "arr = np.arange(12)\n",
    "print(arr, arr.ndim)"
   ]
  },
  {
   "cell_type": "code",
   "execution_count": 9,
   "id": "18981a36",
   "metadata": {},
   "outputs": [
    {
     "name": "stdout",
     "output_type": "stream",
     "text": [
      "[[ 0  1  2  3]\n",
      " [ 4  5  6  7]\n",
      " [ 8  9 10 11]] 2 \n",
      "\n",
      "[[[ 0  1]\n",
      "  [ 2  3]\n",
      "  [ 4  5]]\n",
      "\n",
      " [[ 6  7]\n",
      "  [ 8  9]\n",
      "  [10 11]]] 3 \n",
      "\n",
      "[[[[ 0  1  2]]\n",
      "\n",
      "  [[ 3  4  5]]]\n",
      "\n",
      "\n",
      " [[[ 6  7  8]]\n",
      "\n",
      "  [[ 9 10 11]]]] 4 \n",
      "\n"
     ]
    }
   ],
   "source": [
    "# 2차원으로 변경\n",
    "arr = arr.reshape((3,4))\n",
    "print(arr, arr.ndim, '\\n')\n",
    "\n",
    "# 3차원으로 변경\n",
    "arr = arr.reshape((2,3,2))\n",
    "print(arr, arr.ndim, '\\n')\n",
    "\n",
    "# 4차원으로 변경 \n",
    "arr = arr.reshape((2,2,1,3))\n",
    "print(arr, arr.ndim, '\\n')"
   ]
  },
  {
   "cell_type": "markdown",
   "id": "46696e6a",
   "metadata": {},
   "source": [
    "### Curse Of Diemnsionality : 차원의 저주\n",
    "빅데이터, 인공지능 계열에서 차원이 증가하면서 동일한 데이터라도 \n",
    "데이터들 사이의 거리가 기하급수적으로 커져, 분석에 어려움이 생기는 것을 뜻함"
   ]
  },
  {
   "cell_type": "code",
   "execution_count": 12,
   "id": "c506e1c2",
   "metadata": {},
   "outputs": [
    {
     "name": "stdout",
     "output_type": "stream",
     "text": [
      "[ 1  2  3  4  5  6  7  8  9 10 11 12] \n",
      "\n",
      "[[ 1  2  3  4]\n",
      " [ 5  6  7  8]\n",
      " [ 9 10 11 12]] \n",
      "\n",
      "[[[ 1  2]\n",
      "  [ 3  4]]\n",
      "\n",
      " [[ 5  6]\n",
      "  [ 7  8]]\n",
      "\n",
      " [[ 9 10]\n",
      "  [11 12]]] \n",
      "\n"
     ]
    }
   ],
   "source": [
    "arr = np.arange(1, 13)\n",
    "print(arr, '\\n')\n",
    "\n",
    "# reshape 사용 시 한 차원의 형태를 -1로 두면 자동으로 계산해줌 ( 차원 관계 X )\n",
    "arr = arr.reshape(3, -1)\n",
    "print(arr, '\\n')\n",
    "arr = arr.reshape(3, 2, -1)\n",
    "print(arr, '\\n')"
   ]
  },
  {
   "cell_type": "markdown",
   "id": "bd57227f",
   "metadata": {},
   "source": [
    "### 5-2 . 배열의 형태 변경 : resize(), ravel()"
   ]
  },
  {
   "cell_type": "code",
   "execution_count": 6,
   "id": "597fd370",
   "metadata": {},
   "outputs": [
    {
     "name": "stdout",
     "output_type": "stream",
     "text": [
      "[[ 0  1  2  3]\n",
      " [ 4  5  6  7]\n",
      " [ 8  9 10 11]]\n"
     ]
    }
   ],
   "source": [
    "arr.resize(3,4)\n",
    "print(arr)"
   ]
  },
  {
   "cell_type": "code",
   "execution_count": 8,
   "id": "a6c331a2",
   "metadata": {},
   "outputs": [
    {
     "name": "stdout",
     "output_type": "stream",
     "text": [
      "[ 0  1  2  3  4  5  6  7  8  9 10 11]\n"
     ]
    }
   ],
   "source": [
    "arr = arr.ravel() # 1차원으로 변경해주는 메서드\n",
    "print(arr)"
   ]
  },
  {
   "cell_type": "markdown",
   "id": "4020f1a6",
   "metadata": {},
   "source": [
    "### 5-3. 배열의 형태 변경 : expand_dims(), squeeze()"
   ]
  },
  {
   "cell_type": "code",
   "execution_count": 19,
   "id": "38994418",
   "metadata": {},
   "outputs": [
    {
     "name": "stdout",
     "output_type": "stream",
     "text": [
      "[1 2] (2,)\n",
      "[[1 2]] (1, 2)\n"
     ]
    }
   ],
   "source": [
    "arr = np.array([1,2])\n",
    "print(arr, arr.shape)\n",
    "\n",
    "# expand_dims() -> 입력한 axis 기준으로 차원을 추가\n",
    "arr = np.expand_dims(arr, axis=0) # 행 기준\n",
    "print(arr, arr.shape)"
   ]
  },
  {
   "cell_type": "code",
   "execution_count": 20,
   "id": "31bb53e4",
   "metadata": {},
   "outputs": [
    {
     "name": "stdout",
     "output_type": "stream",
     "text": [
      "[1 2] (2,)\n"
     ]
    }
   ],
   "source": [
    "# squeeze() -> expand와 반대로 배열의 축을 하나 제거해 차원을 축소\n",
    "# 놀고 있는 차원이 없어 줄일 수 없는 경우엔 오류 발생 !! \n",
    "arr = np.squeeze(arr, axis=0)\n",
    "print(arr, arr.shape)"
   ]
  },
  {
   "cell_type": "markdown",
   "id": "f0c565e6",
   "metadata": {},
   "source": [
    "### 5-4. 전치 행렬 ( Transpose Matrix )\n",
    "a[i][j] -> a[j][i] swap \n",
    "\n",
    "대각 원소는 그대로 ... [i]=[j]이므로 ! "
   ]
  },
  {
   "cell_type": "code",
   "execution_count": 31,
   "id": "9ea656f0",
   "metadata": {},
   "outputs": [
    {
     "name": "stdout",
     "output_type": "stream",
     "text": [
      "[[ 1  4  7 10]\n",
      " [ 2  5  8 11]\n",
      " [ 3  6  9 12]] (3, 4)\n"
     ]
    }
   ],
   "source": [
    "arr = np.array([[1,2,3],\n",
    "               [4,5,6],\n",
    "               [7,8,9],\n",
    "               [10,11,12]])\n",
    "print(arr.T, arr.T.shape) # np.transpose(arr)과 동일"
   ]
  },
  {
   "cell_type": "code",
   "execution_count": 34,
   "id": "732eae5b",
   "metadata": {},
   "outputs": [
    {
     "name": "stdout",
     "output_type": "stream",
     "text": [
      "[[12 12]\n",
      " [30 30]\n",
      " [48 48]\n",
      " [66 66]]\n"
     ]
    }
   ],
   "source": [
    "arr2 = np.full((2,3), 2) # 2,3 shape으로 ..\n",
    "print(arr.dot(arr2.T)) # 전치 연산 해야 닷 연산 가능"
   ]
  }
 ],
 "metadata": {
  "kernelspec": {
   "display_name": "Python 3 (ipykernel)",
   "language": "python",
   "name": "python3"
  },
  "language_info": {
   "codemirror_mode": {
    "name": "ipython",
    "version": 3
   },
   "file_extension": ".py",
   "mimetype": "text/x-python",
   "name": "python",
   "nbconvert_exporter": "python",
   "pygments_lexer": "ipython3",
   "version": "3.8.5"
  }
 },
 "nbformat": 4,
 "nbformat_minor": 5
}

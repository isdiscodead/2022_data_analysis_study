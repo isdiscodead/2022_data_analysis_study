{
 "cells": [
  {
   "cell_type": "code",
   "execution_count": 2,
   "id": "a8c67ecf",
   "metadata": {},
   "outputs": [],
   "source": [
    "import numpy as np"
   ]
  },
  {
   "cell_type": "markdown",
   "id": "de731532",
   "metadata": {},
   "source": [
    "# 3-1. 사칙연산 / 제곱 / 제곱근 / 몫/ 나머지\n",
    "배열 간의 연산 -> 기본적으로는 shape이 같아야 함"
   ]
  },
  {
   "cell_type": "code",
   "execution_count": 2,
   "id": "53ba87e8",
   "metadata": {},
   "outputs": [],
   "source": [
    "arr1 = np.array([[1,2,3],\n",
    "               [4,5,6],\n",
    "               [7,8,9]])\n",
    "\n",
    "arr2 = np.array([[2,2,2],\n",
    "               [2,2,2],\n",
    "               [2,2,2]])"
   ]
  },
  {
   "cell_type": "code",
   "execution_count": 4,
   "id": "34a8c653",
   "metadata": {},
   "outputs": [
    {
     "name": "stdout",
     "output_type": "stream",
     "text": [
      "[[ 3  4  5]\n",
      " [ 6  7  8]\n",
      " [ 9 10 11]]\n",
      "[[ 3  4  5]\n",
      " [ 6  7  8]\n",
      " [ 9 10 11]]\n"
     ]
    }
   ],
   "source": [
    "# 덧셈\n",
    "# print(arr1+arr2)\n",
    "print(np.add(arr1, arr2))"
   ]
  },
  {
   "cell_type": "code",
   "execution_count": 5,
   "id": "73154a63",
   "metadata": {},
   "outputs": [
    {
     "name": "stdout",
     "output_type": "stream",
     "text": [
      "[[-1  0  1]\n",
      " [ 2  3  4]\n",
      " [ 5  6  7]]\n"
     ]
    }
   ],
   "source": [
    "# 뺄셈\n",
    "# print(arr1-arr2)\n",
    "print(np.subtract(arr1, arr2))"
   ]
  },
  {
   "cell_type": "code",
   "execution_count": 6,
   "id": "973b0e32",
   "metadata": {},
   "outputs": [
    {
     "name": "stdout",
     "output_type": "stream",
     "text": [
      "[[ 2  4  6]\n",
      " [ 8 10 12]\n",
      " [14 16 18]]\n"
     ]
    }
   ],
   "source": [
    "# 곱셈 ( 원소 단위의 곱셈 ! 내적곱셈 X )\n",
    "# print(arr1*arr2)\n",
    "print(np.multiply(arr1, arr2))"
   ]
  },
  {
   "cell_type": "code",
   "execution_count": 7,
   "id": "e2e776f6",
   "metadata": {},
   "outputs": [
    {
     "name": "stdout",
     "output_type": "stream",
     "text": [
      "[[0.5 1.  1.5]\n",
      " [2.  2.5 3. ]\n",
      " [3.5 4.  4.5]]\n"
     ]
    }
   ],
   "source": [
    "# 나눗셈\n",
    "# print(arr1/arr2)\n",
    "print(np.divide(arr1,arr2))"
   ]
  },
  {
   "cell_type": "code",
   "execution_count": 8,
   "id": "1965b5e1",
   "metadata": {},
   "outputs": [
    {
     "name": "stdout",
     "output_type": "stream",
     "text": [
      "[[   1   16   81]\n",
      " [ 256  625 1296]\n",
      " [2401 4096 6561]]\n"
     ]
    }
   ],
   "source": [
    "# 제곱\n",
    "print(arr1**4)\n",
    "# print(np.square(arr1))"
   ]
  },
  {
   "cell_type": "code",
   "execution_count": 9,
   "id": "b3630bf6",
   "metadata": {},
   "outputs": [
    {
     "name": "stdout",
     "output_type": "stream",
     "text": [
      "[[1.         1.41421356 1.73205081]\n",
      " [2.         2.23606798 2.44948974]\n",
      " [2.64575131 2.82842712 3.        ]]\n"
     ]
    }
   ],
   "source": [
    "# 제곱근\n",
    "print(np.sqrt(arr1))"
   ]
  },
  {
   "cell_type": "code",
   "execution_count": 11,
   "id": "54c9aeac",
   "metadata": {},
   "outputs": [
    {
     "name": "stdout",
     "output_type": "stream",
     "text": [
      "[[0 1 1]\n",
      " [2 2 3]\n",
      " [3 4 4]]\n"
     ]
    }
   ],
   "source": [
    "# 몫\n",
    "print(arr1//arr2)"
   ]
  },
  {
   "cell_type": "code",
   "execution_count": 12,
   "id": "20c9bab8",
   "metadata": {},
   "outputs": [
    {
     "name": "stdout",
     "output_type": "stream",
     "text": [
      "[[1 0 1]\n",
      " [0 1 0]\n",
      " [1 0 1]]\n"
     ]
    }
   ],
   "source": [
    "# 나머지\n",
    "print(arr1%arr2)"
   ]
  },
  {
   "cell_type": "markdown",
   "id": "8e3a3298",
   "metadata": {},
   "source": [
    "# 3-2. 내적( Dot Product ) / 절댓값 / 올림 / 내림 / 반올림 / 버림\n",
    "내적 -> 두 행렬을 곱한 결과 값을 더해 스칼라가 되도록 하는 것 ( 차원을 한 단계 낮춤 )"
   ]
  },
  {
   "cell_type": "code",
   "execution_count": 6,
   "id": "b96f8597",
   "metadata": {},
   "outputs": [
    {
     "name": "stdout",
     "output_type": "stream",
     "text": [
      "20\n"
     ]
    }
   ],
   "source": [
    "# 1차원 행렬 내적\n",
    "arr1 = np.array([2,3,4])\n",
    "arr2 = np.array([1,2,3])\n",
    "print(np.dot(arr1,arr2))"
   ]
  },
  {
   "cell_type": "code",
   "execution_count": 4,
   "id": "954dc0e1",
   "metadata": {},
   "outputs": [
    {
     "name": "stdout",
     "output_type": "stream",
     "text": [
      "[[ 1  8]\n",
      " [ 4 23]]\n"
     ]
    }
   ],
   "source": [
    "# 2차원 행렬 내적\n",
    "'''\n",
    "[[a,b],   [[e,f],    ->  [[ae+bg, af+bh],\n",
    " [c,d]] *  [g,h]]    ->   [ce+dg, cf+dh]]\n",
    "'''\n",
    "arr1 = np.array([[1,2],\n",
    "                [4,5]])\n",
    "arr2 = np.array([[1,2],\n",
    "                [0,3]])\n",
    "print(np.dot(arr1,arr2))"
   ]
  },
  {
   "cell_type": "code",
   "execution_count": 5,
   "id": "8a922726",
   "metadata": {},
   "outputs": [
    {
     "name": "stdout",
     "output_type": "stream",
     "text": [
      "[[1 2]\n",
      " [4 5]]\n"
     ]
    }
   ],
   "source": [
    "# 절댓값 \n",
    "arr = np.array([[1,-2],\n",
    "                [-4,5]])\n",
    "print(np.abs(arr1))"
   ]
  },
  {
   "cell_type": "code",
   "execution_count": 9,
   "id": "53e84dc5",
   "metadata": {},
   "outputs": [
    {
     "name": "stdout",
     "output_type": "stream",
     "text": [
      "[[ 2. -2.]\n",
      " [-4.  6.]]\n"
     ]
    }
   ],
   "source": [
    "# 올림 \n",
    "arr1 = np.array([[1.932, -2.339],\n",
    "               [-4.145, 5.206]])\n",
    "print(np.ceil(arr1))"
   ]
  },
  {
   "cell_type": "code",
   "execution_count": 10,
   "id": "cde28f3a",
   "metadata": {},
   "outputs": [
    {
     "name": "stdout",
     "output_type": "stream",
     "text": [
      "[[ 1. -3.]\n",
      " [-5.  5.]]\n"
     ]
    }
   ],
   "source": [
    "# 내림\n",
    "print(np.floor(arr1))"
   ]
  },
  {
   "cell_type": "code",
   "execution_count": 11,
   "id": "9ed08959",
   "metadata": {},
   "outputs": [
    {
     "name": "stdout",
     "output_type": "stream",
     "text": [
      "[[ 2. -2.]\n",
      " [-4.  5.]]\n"
     ]
    }
   ],
   "source": [
    "# 반올림 \n",
    "print(np.round(arr1))"
   ]
  },
  {
   "cell_type": "code",
   "execution_count": 12,
   "id": "8735ba7d",
   "metadata": {},
   "outputs": [
    {
     "name": "stdout",
     "output_type": "stream",
     "text": [
      "[[ 1. -2.]\n",
      " [-4.  5.]]\n"
     ]
    }
   ],
   "source": [
    "# 버림\n",
    "print(np.trunc(arr1))"
   ]
  },
  {
   "cell_type": "markdown",
   "id": "460f6400",
   "metadata": {},
   "source": [
    "# 3-3. min / max / sum / mean / std / cumsum / median"
   ]
  },
  {
   "cell_type": "code",
   "execution_count": 11,
   "id": "5e9373df",
   "metadata": {},
   "outputs": [],
   "source": [
    "arr = np.array([[1,2,3],\n",
    "               [0,1,4]])"
   ]
  },
  {
   "cell_type": "code",
   "execution_count": 12,
   "id": "c8b36042",
   "metadata": {},
   "outputs": [
    {
     "name": "stdout",
     "output_type": "stream",
     "text": [
      "0\n",
      "[0 1 3]\n"
     ]
    }
   ],
   "source": [
    "\n",
    "# min() : 최솟값\n",
    "print(np.min(arr)) # arr.min()과 동일\n",
    "print(arr.min(axis=0)) # axis=0 : 열 / axis=1 : 행마다 계산"
   ]
  },
  {
   "cell_type": "code",
   "execution_count": 14,
   "id": "8f45282a",
   "metadata": {},
   "outputs": [
    {
     "name": "stdout",
     "output_type": "stream",
     "text": [
      "4\n",
      "[3 4]\n"
     ]
    }
   ],
   "source": [
    "# max() : 최댓값\n",
    "print(np.max(arr)) # arr.max()와 동일\n",
    "print(arr.max(axis=1)) # 마찬가지로 ..."
   ]
  },
  {
   "cell_type": "code",
   "execution_count": 15,
   "id": "c3fc872b",
   "metadata": {},
   "outputs": [
    {
     "name": "stdout",
     "output_type": "stream",
     "text": [
      "11\n",
      "[1 3 7]\n"
     ]
    }
   ],
   "source": [
    "# sum() : 합계\n",
    "print(np.sum(arr))\n",
    "print(arr.sum(axis=0)) # 마찬가지로 열끼리 / 행끼리"
   ]
  },
  {
   "cell_type": "code",
   "execution_count": 16,
   "id": "44f19322",
   "metadata": {},
   "outputs": [
    {
     "name": "stdout",
     "output_type": "stream",
     "text": [
      "1.8333333333333333\n",
      "[2.         1.66666667]\n"
     ]
    }
   ],
   "source": [
    "# mean() : 평균값\n",
    "print(np.mean(arr))\n",
    "print(arr.mean(axis=1))"
   ]
  },
  {
   "cell_type": "code",
   "execution_count": 20,
   "id": "4765b69c",
   "metadata": {},
   "outputs": [
    {
     "name": "stdout",
     "output_type": "stream",
     "text": [
      "1.343709624716425\n",
      "[0.5 0.5 0.5]\n"
     ]
    }
   ],
   "source": [
    "# std() : 표준편차 -> 각 원소들의 분산 정도\n",
    "print(np.std(arr))\n",
    "print(arr.std(axis=0))"
   ]
  },
  {
   "cell_type": "code",
   "execution_count": 22,
   "id": "785761a2",
   "metadata": {},
   "outputs": [
    {
     "name": "stdout",
     "output_type": "stream",
     "text": [
      "[ 1  3  6  6  7 11]\n",
      "[[1 3 6]\n",
      " [0 1 5]]\n"
     ]
    }
   ],
   "source": [
    "# cumsum() : 누적 합 ... 수열 \n",
    "print(np.cumsum(arr))\n",
    "print(arr.cumsum(axis=1))"
   ]
  },
  {
   "cell_type": "code",
   "execution_count": 26,
   "id": "b6ad1172",
   "metadata": {},
   "outputs": [
    {
     "name": "stdout",
     "output_type": "stream",
     "text": [
      "1.5\n",
      "[0.5 1.5 3.5]\n"
     ]
    }
   ],
   "source": [
    "# median() : 정렬 후 중앙값 ( 짝수일 때는 중앙 두 값의 평균 )\n",
    "print(np.median(arr))\n",
    "print(np.median(arr, axis=0)) # 얘는 arr.median() 사용 X\n"
   ]
  },
  {
   "cell_type": "markdown",
   "id": "6a7531ac",
   "metadata": {},
   "source": [
    "### 3-4. 비교 연산자, 삼각 함수 연산"
   ]
  },
  {
   "cell_type": "code",
   "execution_count": 30,
   "id": "8e60fbea",
   "metadata": {},
   "outputs": [
    {
     "name": "stdout",
     "output_type": "stream",
     "text": [
      "[[ True False  True]\n",
      " [ True False False]]\n",
      "[[ True False  True]\n",
      " [ True False  True]]\n",
      "False\n"
     ]
    }
   ],
   "source": [
    "# 비교 연산 -> boolean 결과 ( 원소 별로 비교 )\n",
    "arr1 = np.array([[1,2,3],\n",
    "                [4,5,6]])\n",
    "arr2 = np.array([[1,0,3],\n",
    "                [4,-2,9]])\n",
    "\n",
    "print(arr1==arr2) # 동치\n",
    "print(arr1<=arr2)\n",
    "# 배열 전체 동치\n",
    "print(np.array_equal(arr1,arr2))"
   ]
  },
  {
   "cell_type": "code",
   "execution_count": 32,
   "id": "dfd0162a",
   "metadata": {},
   "outputs": [
    {
     "name": "stdout",
     "output_type": "stream",
     "text": [
      "[[ 0.84147098  0.90929743  0.14112001]\n",
      " [ 0.          0.84147098 -0.7568025 ]]\n",
      "[[ 0.54030231 -0.41614684 -0.9899925 ]\n",
      " [ 1.          0.54030231 -0.65364362]]\n",
      "[[ 1.55740772 -2.18503986 -0.14254654]\n",
      " [ 0.          1.55740772  1.15782128]]\n",
      "3.141592653589793\n"
     ]
    }
   ],
   "source": [
    "# 삼각 함수 -> 각각의 삼각 함수 값\n",
    "print(np.sin(arr))\n",
    "print(np.cos(arr))\n",
    "print(np.tan(arr))\n",
    "print(np.pi) # v"
   ]
  },
  {
   "cell_type": "markdown",
   "id": "14939d6d",
   "metadata": {},
   "source": [
    "### 3-5. 브로드캐스팅 ( broadcasting )\n",
    "연산을 위해 ndarray들의 shape 맞추는 것 -> 큰 배열에 맞춰 행/열 확장 후 연산"
   ]
  },
  {
   "cell_type": "code",
   "execution_count": 5,
   "id": "eadbd6c3",
   "metadata": {},
   "outputs": [
    {
     "name": "stdout",
     "output_type": "stream",
     "text": [
      "[[5 6 7]\n",
      " [6 7 8]\n",
      " [7 8 9]]\n"
     ]
    }
   ],
   "source": [
    "arr1 = np.array([[0,0,0],\n",
    "                [1,1,1],\n",
    "                [2,2,2]])\n",
    "arr2 = np.array([[5,6,7]])\n",
    "print(arr1+arr2)"
   ]
  },
  {
   "cell_type": "code",
   "execution_count": 6,
   "id": "2bc1d4dd",
   "metadata": {},
   "outputs": [
    {
     "name": "stdout",
     "output_type": "stream",
     "text": [
      "[[ 1  1  1]\n",
      " [ 0  0  0]\n",
      " [-1 -1 -1]]\n"
     ]
    }
   ],
   "source": [
    "arr1 = np.array([[1,1,1]])\n",
    "arr2 = np.array([[0],\n",
    "                 [1],\n",
    "                 [2]])\n",
    "print(arr1-arr2)"
   ]
  },
  {
   "cell_type": "markdown",
   "id": "f40ed0cd",
   "metadata": {},
   "source": [
    "### 3-6. 벡터 연산의 장점\n",
    "-> 배열의 연산 빠르게, 딥러닝에서 선형 대수 관련 연산 시 높은 속도"
   ]
  },
  {
   "cell_type": "code",
   "execution_count": 7,
   "id": "cc205f01",
   "metadata": {},
   "outputs": [],
   "source": [
    "import time"
   ]
  },
  {
   "cell_type": "code",
   "execution_count": 15,
   "id": "c888d454",
   "metadata": {},
   "outputs": [
    {
     "name": "stderr",
     "output_type": "stream",
     "text": [
      "/var/folders/yw/d4_b14c96kx6qyjbv_wvzdhw0000gn/T/ipykernel_77336/3837165798.py:7: RuntimeWarning: overflow encountered in long_scalars\n",
      "  sum += i*j\n"
     ]
    },
    {
     "name": "stdout",
     "output_type": "stream",
     "text": [
      "1291790006583070911 3.520937919616699\n"
     ]
    }
   ],
   "source": [
    "arr1 = np.arange(9999999)\n",
    "arr2 = np.arange(9999999)\n",
    "# for\n",
    "sum = 0 ;\n",
    "before = time.time() # 시간 기록\n",
    "for i,j in zip(arr1, arr2) : # zip -> 동일한 모양의 array끼리 묶어주는 함수\n",
    "    sum += i*j\n",
    "after = time.time()\n",
    "print(sum, after-before)"
   ]
  },
  {
   "cell_type": "code",
   "execution_count": 13,
   "id": "bfb00150",
   "metadata": {},
   "outputs": [
    {
     "name": "stdout",
     "output_type": "stream",
     "text": [
      "1291790006583070911 0.013106107711791992\n"
     ]
    }
   ],
   "source": [
    "# 벡터 연산의 경우 ... \n",
    "before = time.time()\n",
    "sum = np.dot(arr1, arr2)\n",
    "after = time.time()\n",
    "print(sum, after - before)"
   ]
  }
 ],
 "metadata": {
  "kernelspec": {
   "display_name": "Python 3 (ipykernel)",
   "language": "python",
   "name": "python3"
  },
  "language_info": {
   "codemirror_mode": {
    "name": "ipython",
    "version": 3
   },
   "file_extension": ".py",
   "mimetype": "text/x-python",
   "name": "python",
   "nbconvert_exporter": "python",
   "pygments_lexer": "ipython3",
   "version": "3.8.5"
  }
 },
 "nbformat": 4,
 "nbformat_minor": 5
}

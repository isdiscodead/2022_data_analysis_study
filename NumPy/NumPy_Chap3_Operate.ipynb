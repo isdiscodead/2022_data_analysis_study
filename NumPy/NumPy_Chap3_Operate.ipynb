{
 "cells": [
  {
   "cell_type": "code",
   "execution_count": 5,
   "id": "a8c67ecf",
   "metadata": {},
   "outputs": [],
   "source": [
    "import numpy as np"
   ]
  },
  {
   "cell_type": "markdown",
   "id": "de731532",
   "metadata": {},
   "source": [
    "# 3-1. 사칙연산 / 제곱 / 제곱근 / 몫/ 나머지\n",
    "배열 간의 연산 -> 기본적으로는 shape이 같아야 함"
   ]
  },
  {
   "cell_type": "code",
   "execution_count": 2,
   "id": "53ba87e8",
   "metadata": {},
   "outputs": [],
   "source": [
    "arr1 = np.array([[1,2,3],\n",
    "               [4,5,6],\n",
    "               [7,8,9]])\n",
    "\n",
    "arr2 = np.array([[2,2,2],\n",
    "               [2,2,2],\n",
    "               [2,2,2]])"
   ]
  },
  {
   "cell_type": "code",
   "execution_count": 4,
   "id": "34a8c653",
   "metadata": {},
   "outputs": [
    {
     "name": "stdout",
     "output_type": "stream",
     "text": [
      "[[ 3  4  5]\n",
      " [ 6  7  8]\n",
      " [ 9 10 11]]\n",
      "[[ 3  4  5]\n",
      " [ 6  7  8]\n",
      " [ 9 10 11]]\n"
     ]
    }
   ],
   "source": [
    "# 덧셈\n",
    "# print(arr1+arr2)\n",
    "print(np.add(arr1, arr2))"
   ]
  },
  {
   "cell_type": "code",
   "execution_count": 5,
   "id": "73154a63",
   "metadata": {},
   "outputs": [
    {
     "name": "stdout",
     "output_type": "stream",
     "text": [
      "[[-1  0  1]\n",
      " [ 2  3  4]\n",
      " [ 5  6  7]]\n"
     ]
    }
   ],
   "source": [
    "# 뺄셈\n",
    "# print(arr1-arr2)\n",
    "print(np.subtract(arr1, arr2))"
   ]
  },
  {
   "cell_type": "code",
   "execution_count": 6,
   "id": "973b0e32",
   "metadata": {},
   "outputs": [
    {
     "name": "stdout",
     "output_type": "stream",
     "text": [
      "[[ 2  4  6]\n",
      " [ 8 10 12]\n",
      " [14 16 18]]\n"
     ]
    }
   ],
   "source": [
    "# 곱셈 ( 원소 단위의 곱셈 ! 내적곱셈 X )\n",
    "# print(arr1*arr2)\n",
    "print(np.multiply(arr1, arr2))"
   ]
  },
  {
   "cell_type": "code",
   "execution_count": 7,
   "id": "e2e776f6",
   "metadata": {},
   "outputs": [
    {
     "name": "stdout",
     "output_type": "stream",
     "text": [
      "[[0.5 1.  1.5]\n",
      " [2.  2.5 3. ]\n",
      " [3.5 4.  4.5]]\n"
     ]
    }
   ],
   "source": [
    "# 나눗셈\n",
    "# print(arr1/arr2)\n",
    "print(np.divide(arr1,arr2))"
   ]
  },
  {
   "cell_type": "code",
   "execution_count": 8,
   "id": "1965b5e1",
   "metadata": {},
   "outputs": [
    {
     "name": "stdout",
     "output_type": "stream",
     "text": [
      "[[   1   16   81]\n",
      " [ 256  625 1296]\n",
      " [2401 4096 6561]]\n"
     ]
    }
   ],
   "source": [
    "# 제곱\n",
    "print(arr1**4)\n",
    "# print(np.square(arr1))"
   ]
  },
  {
   "cell_type": "code",
   "execution_count": 9,
   "id": "b3630bf6",
   "metadata": {},
   "outputs": [
    {
     "name": "stdout",
     "output_type": "stream",
     "text": [
      "[[1.         1.41421356 1.73205081]\n",
      " [2.         2.23606798 2.44948974]\n",
      " [2.64575131 2.82842712 3.        ]]\n"
     ]
    }
   ],
   "source": [
    "# 제곱근\n",
    "print(np.sqrt(arr1))"
   ]
  },
  {
   "cell_type": "code",
   "execution_count": 11,
   "id": "54c9aeac",
   "metadata": {},
   "outputs": [
    {
     "name": "stdout",
     "output_type": "stream",
     "text": [
      "[[0 1 1]\n",
      " [2 2 3]\n",
      " [3 4 4]]\n"
     ]
    }
   ],
   "source": [
    "# 몫\n",
    "print(arr1//arr2)"
   ]
  },
  {
   "cell_type": "code",
   "execution_count": 12,
   "id": "20c9bab8",
   "metadata": {},
   "outputs": [
    {
     "name": "stdout",
     "output_type": "stream",
     "text": [
      "[[1 0 1]\n",
      " [0 1 0]\n",
      " [1 0 1]]\n"
     ]
    }
   ],
   "source": [
    "# 나머지\n",
    "print(arr1%arr2)"
   ]
  },
  {
   "cell_type": "markdown",
   "id": "8e3a3298",
   "metadata": {},
   "source": [
    "# 3-2. 내적( Dot Product ) / 절댓값 / 올림 / 내림 / 반올림 / 버림\n",
    "내적 -> 두 행렬을 곱한 결과 값을 더해 스칼라가 되도록 하는 것 ( 차원을 한 단계 낮춤 )"
   ]
  },
  {
   "cell_type": "code",
   "execution_count": 6,
   "id": "b96f8597",
   "metadata": {},
   "outputs": [
    {
     "name": "stdout",
     "output_type": "stream",
     "text": [
      "20\n"
     ]
    }
   ],
   "source": [
    "# 1차원 행렬 내적\n",
    "arr1 = np.array([2,3,4])\n",
    "arr2 = np.array([1,2,3])\n",
    "print(np.dot(arr1,arr2))"
   ]
  },
  {
   "cell_type": "code",
   "execution_count": 7,
   "id": "954dc0e1",
   "metadata": {},
   "outputs": [
    {
     "name": "stdout",
     "output_type": "stream",
     "text": [
      "[[ 1  8]\n",
      " [ 4 23]]\n"
     ]
    }
   ],
   "source": [
    "# 2차원 행렬 내적\n",
    "'''\n",
    "[[a,b],   [[e,f],    ->  [[ae+bg, af+bh],\n",
    " [c,d]] *  [g,h]]    ->   [ce+dg, cf+dh]]\n",
    "'''\n",
    "arr1 = np.array([[1,2],\n",
    "                [4,5]])\n",
    "arr2 = np.array([[1,2],\n",
    "                [0,3]])\n",
    "print(np.dot(arr1,arr2))"
   ]
  },
  {
   "cell_type": "code",
   "execution_count": 8,
   "id": "8a922726",
   "metadata": {},
   "outputs": [
    {
     "name": "stdout",
     "output_type": "stream",
     "text": [
      "[[1 2]\n",
      " [4 5]]\n"
     ]
    }
   ],
   "source": [
    "# 절댓값 \n",
    "arr = np.array([[1,-2],\n",
    "                [-4,5]])\n",
    "print(np.abs(arr1))"
   ]
  },
  {
   "cell_type": "code",
   "execution_count": 9,
   "id": "53e84dc5",
   "metadata": {},
   "outputs": [
    {
     "name": "stdout",
     "output_type": "stream",
     "text": [
      "[[ 2. -2.]\n",
      " [-4.  6.]]\n"
     ]
    }
   ],
   "source": [
    "# 올림 \n",
    "arr1 = np.array([[1.932, -2.339],\n",
    "               [-4.145, 5.206]])\n",
    "print(np.ceil(arr1))"
   ]
  },
  {
   "cell_type": "code",
   "execution_count": 10,
   "id": "cde28f3a",
   "metadata": {},
   "outputs": [
    {
     "name": "stdout",
     "output_type": "stream",
     "text": [
      "[[ 1. -3.]\n",
      " [-5.  5.]]\n"
     ]
    }
   ],
   "source": [
    "# 내림\n",
    "print(np.floor(arr1))"
   ]
  },
  {
   "cell_type": "code",
   "execution_count": 11,
   "id": "9ed08959",
   "metadata": {},
   "outputs": [
    {
     "name": "stdout",
     "output_type": "stream",
     "text": [
      "[[ 2. -2.]\n",
      " [-4.  5.]]\n"
     ]
    }
   ],
   "source": [
    "# 반올림 \n",
    "print(np.round(arr1))"
   ]
  },
  {
   "cell_type": "code",
   "execution_count": 12,
   "id": "8735ba7d",
   "metadata": {},
   "outputs": [
    {
     "name": "stdout",
     "output_type": "stream",
     "text": [
      "[[ 1. -2.]\n",
      " [-4.  5.]]\n"
     ]
    }
   ],
   "source": [
    "# 버림\n",
    "print(np.trunc(arr1))"
   ]
  },
  {
   "cell_type": "markdown",
   "id": "460f6400",
   "metadata": {},
   "source": [
    "# 3-3. "
   ]
  }
 ],
 "metadata": {
  "kernelspec": {
   "display_name": "Python 3 (ipykernel)",
   "language": "python",
   "name": "python3"
  },
  "language_info": {
   "codemirror_mode": {
    "name": "ipython",
    "version": 3
   },
   "file_extension": ".py",
   "mimetype": "text/x-python",
   "name": "python",
   "nbconvert_exporter": "python",
   "pygments_lexer": "ipython3",
   "version": "3.8.5"
  }
 },
 "nbformat": 4,
 "nbformat_minor": 5
}

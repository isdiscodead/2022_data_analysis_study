{
 "cells": [
  {
   "cell_type": "code",
   "execution_count": 2,
   "id": "01336127",
   "metadata": {},
   "outputs": [],
   "source": [
    "import numpy as np"
   ]
  },
  {
   "cell_type": "markdown",
   "id": "4c3f807c",
   "metadata": {},
   "source": [
    "### 7-1. 실습 예제 1~3"
   ]
  },
  {
   "cell_type": "code",
   "execution_count": 4,
   "id": "a12126a6",
   "metadata": {},
   "outputs": [
    {
     "name": "stdout",
     "output_type": "stream",
     "text": [
      "[[[3 3 3 3 3]\n",
      "  [3 3 3 3 3]\n",
      "  [3 3 3 3 3]\n",
      "  [3 3 3 3 3]]\n",
      "\n",
      " [[3 3 3 3 3]\n",
      "  [3 3 3 3 3]\n",
      "  [3 3 3 3 3]\n",
      "  [3 3 3 3 3]]\n",
      "\n",
      " [[3 3 3 3 3]\n",
      "  [3 3 3 3 3]\n",
      "  [3 3 3 3 3]\n",
      "  [3 3 3 3 3]]]\n"
     ]
    }
   ],
   "source": [
    "# 예제 1 : 원소가 모두 3인 (3,4,5) 형태의 numpy.array 출력\n",
    "arr = np.full((3,4,5), 3)\n",
    "print(arr)"
   ]
  },
  {
   "cell_type": "code",
   "execution_count": 8,
   "id": "f4d2cc19",
   "metadata": {},
   "outputs": [
    {
     "name": "stdout",
     "output_type": "stream",
     "text": [
      "[[ 48 -50 -46  19  31]\n",
      " [ 15 -48  29  -6 -32]\n",
      " [ 30  -9 -43  20   6]\n",
      " [-30  45 -31 -47 -25]]\n",
      "[[-30 -50 -46 -47 -32]\n",
      " [ 15 -48 -43  -6 -25]\n",
      " [ 30  -9 -31  19   6]\n",
      " [ 48  45  29  20  31]]\n",
      "[-50 -48 -47 -46 -43 -32 -31 -30 -25  -9  -6   6  15  19  20  29  30  31\n",
      "  45  48]\n"
     ]
    }
   ],
   "source": [
    "# 예제 2 : 정수 -50~50 사이의 난수 (4,5)형태 정렬\n",
    "arr = np.random.randint(-50, 50, (4, 5))\n",
    "# array 작성\n",
    "print(arr)\n",
    "# 행을 기준으로 오름차 정렬\n",
    "print(np.sort(arr, axis=0))\n",
    "# 1차원 배열로 정렬\n",
    "print(np.sort(arr, axis=None))"
   ]
  },
  {
   "cell_type": "code",
   "execution_count": 11,
   "id": "6a9ab3f3",
   "metadata": {},
   "outputs": [
    {
     "name": "stdout",
     "output_type": "stream",
     "text": [
      "[8.0, 0.0, 8.0, 14.666666666666666, 21.171259344267224, 26.0, 21.5, 3.6742346141747673, 21.5]\n"
     ]
    }
   ],
   "source": [
    "# 예제 3 : 연산\n",
    "py_list = [np.full(3,8),\n",
    "          np.array([33, -15, 26]),\n",
    "          np.linspace(17, 26, 3)\n",
    "          ]\n",
    "\n",
    "# 각 array들의 원소의 평균값\n",
    "result_arr = []\n",
    "for i in py_list:\n",
    "    result_arr.append(np.mean(i))\n",
    "    result_arr.append(np.std(i))\n",
    "    result_arr.append(np.median(i))\n",
    "    \n",
    "print(result_arr)"
   ]
  },
  {
   "cell_type": "markdown",
   "id": "f12e751d",
   "metadata": {},
   "source": [
    "### 7-2. 실습 예제 4~6"
   ]
  },
  {
   "cell_type": "code",
   "execution_count": 12,
   "id": "3fb28e77",
   "metadata": {},
   "outputs": [
    {
     "name": "stdout",
     "output_type": "stream",
     "text": [
      "[[  2   4   6]\n",
      " [  8  10  12]\n",
      " [ 14  16  18]\n",
      " [  4  16  36]\n",
      " [ 64 100 144]\n",
      " [196 256 324]]\n"
     ]
    }
   ],
   "source": [
    "# 예제 4번 : 분할 후 제곱하여 병합\n",
    "arr = np.arange(2, 20, 2). reshape((3, 3))\n",
    "s1 = np.vsplit(arr, 3)\n",
    "s2 = np.square(s1)\n",
    "s3 = np.squeeze(s2, axis=1)\n",
    "result_arr = np.vstack((arr, s3))\n",
    "print(result_arr)"
   ]
  },
  {
   "cell_type": "code",
   "execution_count": 16,
   "id": "9b9a9ac3",
   "metadata": {},
   "outputs": [
    {
     "name": "stdout",
     "output_type": "stream",
     "text": [
      "0.0\n",
      "0.49999999999999994\n",
      "0.8660254037844386\n",
      "1.0\n",
      "\n",
      "1.0\n",
      "0.8660254037844387\n",
      "0.5000000000000001\n",
      "6.123233995736766e-17\n",
      "\n",
      "0.0\n",
      "0.5773502691896256\n",
      "1.7320508075688767\n",
      "INF\n",
      "\n"
     ]
    }
   ],
   "source": [
    "# 예제 5 : 삼각함수 특수각 \n",
    "arr = np.arange(0, 91, 30)\n",
    "lst = []\n",
    "lst.append(np.sin(arr * np.pi / 180)) # radian 값으로 변환\n",
    "lst.append(np.cos(arr * np.pi / 180))\n",
    "lst.append(np.tan(arr * np.pi / 180))\n",
    "\n",
    "for value_lst in lst:\n",
    "    for value in value_lst:\n",
    "        if value > 99999999:\n",
    "            print(\"INF\")\n",
    "            continue\n",
    "        print(value)\n",
    "    print()"
   ]
  },
  {
   "cell_type": "code",
   "execution_count": 22,
   "id": "e5df8ddb",
   "metadata": {},
   "outputs": [
    {
     "name": "stdout",
     "output_type": "stream",
     "text": [
      "0 1 0 1 0 1 0 \n",
      "1 0 1 0 1 0 1 \n",
      "0 1 0 1 0 1 0 \n",
      "1 0 1 0 1 0 1 \n",
      "0 1 0 1 0 1 0 \n",
      "1 0 1 0 1 0 1 \n",
      "0 1 0 1 0 1 0 \n"
     ]
    }
   ],
   "source": [
    "# 예제 6 : 체크 패턴 출력\n",
    "arr = np.zeros((7, 7), dtype=int)\n",
    "arr[::2, 1::2] = 1 # 0행부터 끝행까지 2스텝, 1열부터 2스텝씩\n",
    "arr[1::2, ::2] = 1 # 1행부터 끝행까지 2스텝, 0열부터 2스텝씩\n",
    "\n",
    "for row in range(7):\n",
    "    for col in range(7):\n",
    "        print(arr[row, col], end=\" \")\n",
    "    print()"
   ]
  }
 ],
 "metadata": {
  "kernelspec": {
   "display_name": "Python 3 (ipykernel)",
   "language": "python",
   "name": "python3"
  },
  "language_info": {
   "codemirror_mode": {
    "name": "ipython",
    "version": 3
   },
   "file_extension": ".py",
   "mimetype": "text/x-python",
   "name": "python",
   "nbconvert_exporter": "python",
   "pygments_lexer": "ipython3",
   "version": "3.8.5"
  }
 },
 "nbformat": 4,
 "nbformat_minor": 5
}

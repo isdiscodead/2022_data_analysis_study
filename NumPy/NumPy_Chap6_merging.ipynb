{
 "cells": [
  {
   "cell_type": "code",
   "execution_count": 2,
   "id": "83c60b16",
   "metadata": {},
   "outputs": [],
   "source": [
    "import numpy as np"
   ]
  },
  {
   "cell_type": "markdown",
   "id": "e71420c1",
   "metadata": {},
   "source": [
    "### 6-1. 배열의 원소 추가 및 삭제"
   ]
  },
  {
   "cell_type": "code",
   "execution_count": 7,
   "id": "80675d03",
   "metadata": {},
   "outputs": [
    {
     "name": "stdout",
     "output_type": "stream",
     "text": [
      "[1, 2, 50, 3, 4, 5, 6, 7, 8]\n",
      "[ 1  2 50  3  4  5  6  7  8]\n",
      "[[ 1  2 50  3  4]\n",
      " [ 5  6 50  7  8]\n",
      " [ 9 10 50 11 12]]\n"
     ]
    }
   ],
   "source": [
    "# insert \n",
    "# python list의 경우\n",
    "arr = [1, 2, 3, 4, 5, 6, 7, 8]\n",
    "arr.insert(2, 50)\n",
    "print(arr)\n",
    "\n",
    "# 1차원 배열\n",
    "arr = np.arange(1, 9)\n",
    "arr = np.insert(arr, 2, 50)\n",
    "print(arr)\n",
    "\n",
    "# 2차원 배열\n",
    "arr = np.arange(1, 13).reshape(3, 4)\n",
    "arr = np.insert(arr, 2, 50, axis=1) # column 값 기준으로 일렬 삽입\n",
    "# axis 값이 없을 경우 1차원 배열로 ...\n",
    "print(arr)"
   ]
  },
  {
   "cell_type": "code",
   "execution_count": 10,
   "id": "2e4dda5b",
   "metadata": {},
   "outputs": [
    {
     "name": "stdout",
     "output_type": "stream",
     "text": [
      "[[ 1  2  3  4]\n",
      " [ 5  6  7  8]\n",
      " [ 9 10 11 12]]\n",
      "[[1 2 3 4]\n",
      " [5 6 7 8]]\n"
     ]
    }
   ],
   "source": [
    "# delete()\n",
    "arr = np.arange(1, 13).reshape(3, 4)\n",
    "print(arr)\n",
    "\n",
    "arr = np.delete(arr, 2, axis=0) # 2번 row 삭제\n",
    "print(arr)"
   ]
  },
  {
   "cell_type": "markdown",
   "id": "34aa3cb5",
   "metadata": {},
   "source": [
    "### 6-2. 배열 간의 병합"
   ]
  },
  {
   "cell_type": "code",
   "execution_count": 14,
   "id": "d18888df",
   "metadata": {},
   "outputs": [
    {
     "name": "stdout",
     "output_type": "stream",
     "text": [
      "[[ 1  2  3  4]\n",
      " [ 5  6  7  8]\n",
      " [ 9 10 11 12]\n",
      " [13 14 15 16]\n",
      " [17 18 19 20]\n",
      " [21 22 23 24]]\n"
     ]
    }
   ],
   "source": [
    "# append() -> 배열의 마지막 부분에 다른 배열 추가\n",
    "arr1 = np.arange(1, 13).reshape(3, 4)\n",
    "arr2 = np.arange(13, 25).reshape(3, 4)\n",
    "\n",
    "# axis=0 -> row 기준 병합 ... row shape이 같아야 함\n",
    "# 마찬가지로 axis가 없으면 1차원으로 병합\n",
    "arr3 = np.append(arr1, arr2, axis=0)\n",
    "print(arr3)"
   ]
  },
  {
   "cell_type": "code",
   "execution_count": 17,
   "id": "f32a06f1",
   "metadata": {},
   "outputs": [
    {
     "name": "stdout",
     "output_type": "stream",
     "text": [
      "[[ 1  2  3]\n",
      " [ 4  5  6]\n",
      " [ 7  8  9]\n",
      " [10 11 12]]\n",
      "[[ 1  2  3  7  8  9]\n",
      " [ 4  5  6 10 11 12]]\n"
     ]
    }
   ],
   "source": [
    "# vstack(), hstack()\n",
    "arr1 = np.arange(1, 7).reshape(2, 3)\n",
    "arr2 = np.arange(7, 13).reshape(2, 3)\n",
    "\n",
    "arr3 = np.vstack((arr1, arr2)) # vertical stack\n",
    "print(arr3) \n",
    "arr3 = np.hstack((arr1, arr2)) # horizontal stack\n",
    "print(arr3)"
   ]
  },
  {
   "cell_type": "code",
   "execution_count": 18,
   "id": "a4123697",
   "metadata": {},
   "outputs": [
    {
     "name": "stdout",
     "output_type": "stream",
     "text": [
      "[[ 1  2  3  7  8  9]\n",
      " [ 4  5  6 10 11 12]]\n"
     ]
    }
   ],
   "source": [
    "# concatenate()\n",
    "arr1 = np.arange(1, 7).reshape(2, 3)\n",
    "arr2 = np.arange(7, 13).reshape(2, 3)\n",
    "\n",
    "arr3 = np.concatenate([arr1, arr2], axis=1) # y축, col 기준\n",
    "print(arr3)"
   ]
  },
  {
   "cell_type": "markdown",
   "id": "778edc66",
   "metadata": {},
   "source": [
    "### 6-3. 배열 분할"
   ]
  },
  {
   "cell_type": "code",
   "execution_count": 19,
   "id": "a6b9854f",
   "metadata": {},
   "outputs": [
    {
     "name": "stdout",
     "output_type": "stream",
     "text": [
      "[[ 1  2  3  4]\n",
      " [ 5  6  7  8]\n",
      " [ 9 10 11 12]]\n"
     ]
    }
   ],
   "source": [
    "# 2차원 배열\n",
    "arr = np.arange(1, 13).reshape(3, 4) # tensor 생성\n",
    "print(arr)"
   ]
  },
  {
   "cell_type": "code",
   "execution_count": 23,
   "id": "9172652d",
   "metadata": {},
   "outputs": [
    {
     "name": "stdout",
     "output_type": "stream",
     "text": [
      "[array([[1, 2, 3, 4]]), array([[5, 6, 7, 8]]), array([[ 9, 10, 11, 12]])]\n"
     ]
    }
   ],
   "source": [
    "# vsplit() -> axis=0 기준, row 기준 분할\n",
    "# 3행짜리 -> 홀수로만 분할 가능\n",
    "arr_vsplit = np.vsplit(arr, 3)\n",
    "print(arr_vsplit)"
   ]
  },
  {
   "cell_type": "code",
   "execution_count": 24,
   "id": "bff3e9f7",
   "metadata": {},
   "outputs": [
    {
     "name": "stdout",
     "output_type": "stream",
     "text": [
      "[array([[ 1,  2],\n",
      "       [ 5,  6],\n",
      "       [ 9, 10]]), array([[ 3,  4],\n",
      "       [ 7,  8],\n",
      "       [11, 12]])]\n"
     ]
    }
   ],
   "source": [
    "# hsplit() -> axis=1 기준, column 기준 분할\n",
    "arr_hsplit = np.hsplit(arr, 2)\n",
    "print(arr_hsplit)"
   ]
  },
  {
   "cell_type": "code",
   "execution_count": 25,
   "id": "1f11e531",
   "metadata": {},
   "outputs": [
    {
     "name": "stdout",
     "output_type": "stream",
     "text": [
      "[[[5 5 2 3 0 7 7 5]\n",
      "  [2 6 6 8 8 1 3 8]\n",
      "  [2 8 4 5 7 5 5 5]\n",
      "  [1 1 0 2 2 7 4 4]\n",
      "  [5 5 6 3 8 3 4 5]\n",
      "  [5 2 1 6 4 9 1 2]]\n",
      "\n",
      " [[2 3 4 4 4 4 7 8]\n",
      "  [0 5 0 4 8 0 1 9]\n",
      "  [8 6 5 1 6 4 9 1]\n",
      "  [8 1 9 6 9 9 3 4]\n",
      "  [8 3 5 4 8 0 4 9]\n",
      "  [7 1 8 0 5 5 0 5]]\n",
      "\n",
      " [[3 7 1 3 2 5 1 5]\n",
      "  [0 0 4 2 9 9 0 1]\n",
      "  [0 1 0 4 6 2 2 6]\n",
      "  [3 2 4 5 8 1 5 8]\n",
      "  [9 6 6 2 1 8 0 1]\n",
      "  [1 6 4 0 6 5 5 4]]\n",
      "\n",
      " [[1 0 7 7 2 8 8 4]\n",
      "  [5 9 6 9 9 4 4 1]\n",
      "  [1 3 1 4 1 9 1 9]\n",
      "  [9 3 2 5 7 9 2 3]\n",
      "  [9 6 2 3 3 1 1 1]\n",
      "  [9 1 7 4 5 7 4 0]]]\n"
     ]
    }
   ],
   "source": [
    "# 3차원 배열\n",
    "arr = np.random.randint(0, 10, (4, 6, 8))\n",
    "print(arr)"
   ]
  },
  {
   "cell_type": "code",
   "execution_count": 26,
   "id": "f5f93158",
   "metadata": {},
   "outputs": [
    {
     "name": "stdout",
     "output_type": "stream",
     "text": [
      "[array([[[5, 5, 2, 3, 0, 7, 7, 5],\n",
      "        [2, 6, 6, 8, 8, 1, 3, 8],\n",
      "        [2, 8, 4, 5, 7, 5, 5, 5],\n",
      "        [1, 1, 0, 2, 2, 7, 4, 4],\n",
      "        [5, 5, 6, 3, 8, 3, 4, 5],\n",
      "        [5, 2, 1, 6, 4, 9, 1, 2]],\n",
      "\n",
      "       [[2, 3, 4, 4, 4, 4, 7, 8],\n",
      "        [0, 5, 0, 4, 8, 0, 1, 9],\n",
      "        [8, 6, 5, 1, 6, 4, 9, 1],\n",
      "        [8, 1, 9, 6, 9, 9, 3, 4],\n",
      "        [8, 3, 5, 4, 8, 0, 4, 9],\n",
      "        [7, 1, 8, 0, 5, 5, 0, 5]]]), array([[[3, 7, 1, 3, 2, 5, 1, 5],\n",
      "        [0, 0, 4, 2, 9, 9, 0, 1],\n",
      "        [0, 1, 0, 4, 6, 2, 2, 6],\n",
      "        [3, 2, 4, 5, 8, 1, 5, 8],\n",
      "        [9, 6, 6, 2, 1, 8, 0, 1],\n",
      "        [1, 6, 4, 0, 6, 5, 5, 4]],\n",
      "\n",
      "       [[1, 0, 7, 7, 2, 8, 8, 4],\n",
      "        [5, 9, 6, 9, 9, 4, 4, 1],\n",
      "        [1, 3, 1, 4, 1, 9, 1, 9],\n",
      "        [9, 3, 2, 5, 7, 9, 2, 3],\n",
      "        [9, 6, 2, 3, 3, 1, 1, 1],\n",
      "        [9, 1, 7, 4, 5, 7, 4, 0]]])]\n"
     ]
    }
   ],
   "source": [
    "arr_vsplit = np.vsplit(arr, 2)\n",
    "print(arr_vsplit)"
   ]
  },
  {
   "cell_type": "code",
   "execution_count": 27,
   "id": "c8349ff4",
   "metadata": {},
   "outputs": [
    {
     "name": "stdout",
     "output_type": "stream",
     "text": [
      "[array([[[5, 5, 2, 3, 0, 7, 7, 5],\n",
      "        [2, 6, 6, 8, 8, 1, 3, 8],\n",
      "        [2, 8, 4, 5, 7, 5, 5, 5]],\n",
      "\n",
      "       [[2, 3, 4, 4, 4, 4, 7, 8],\n",
      "        [0, 5, 0, 4, 8, 0, 1, 9],\n",
      "        [8, 6, 5, 1, 6, 4, 9, 1]],\n",
      "\n",
      "       [[3, 7, 1, 3, 2, 5, 1, 5],\n",
      "        [0, 0, 4, 2, 9, 9, 0, 1],\n",
      "        [0, 1, 0, 4, 6, 2, 2, 6]],\n",
      "\n",
      "       [[1, 0, 7, 7, 2, 8, 8, 4],\n",
      "        [5, 9, 6, 9, 9, 4, 4, 1],\n",
      "        [1, 3, 1, 4, 1, 9, 1, 9]]]), array([[[1, 1, 0, 2, 2, 7, 4, 4],\n",
      "        [5, 5, 6, 3, 8, 3, 4, 5],\n",
      "        [5, 2, 1, 6, 4, 9, 1, 2]],\n",
      "\n",
      "       [[8, 1, 9, 6, 9, 9, 3, 4],\n",
      "        [8, 3, 5, 4, 8, 0, 4, 9],\n",
      "        [7, 1, 8, 0, 5, 5, 0, 5]],\n",
      "\n",
      "       [[3, 2, 4, 5, 8, 1, 5, 8],\n",
      "        [9, 6, 6, 2, 1, 8, 0, 1],\n",
      "        [1, 6, 4, 0, 6, 5, 5, 4]],\n",
      "\n",
      "       [[9, 3, 2, 5, 7, 9, 2, 3],\n",
      "        [9, 6, 2, 3, 3, 1, 1, 1],\n",
      "        [9, 1, 7, 4, 5, 7, 4, 0]]])]\n"
     ]
    }
   ],
   "source": [
    "arr_hsplit = np.hsplit(arr, 2)\n",
    "print(arr_hsplit)"
   ]
  }
 ],
 "metadata": {
  "kernelspec": {
   "display_name": "Python 3 (ipykernel)",
   "language": "python",
   "name": "python3"
  },
  "language_info": {
   "codemirror_mode": {
    "name": "ipython",
    "version": 3
   },
   "file_extension": ".py",
   "mimetype": "text/x-python",
   "name": "python",
   "nbconvert_exporter": "python",
   "pygments_lexer": "ipython3",
   "version": "3.8.5"
  }
 },
 "nbformat": 4,
 "nbformat_minor": 5
}

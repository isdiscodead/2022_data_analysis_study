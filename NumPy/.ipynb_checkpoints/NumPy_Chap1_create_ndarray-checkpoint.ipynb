{
 "cells": [
  {
   "cell_type": "code",
   "execution_count": 2,
   "metadata": {
    "id": "uTMANwjryAHV"
   },
   "outputs": [],
   "source": [
    "# ctrl + m + b 눌러서 새 셀 추가 가능\n",
    "# shift 혹은 cmd 또는 alt + 엔터는 실행 후 추가"
   ]
  },
  {
   "cell_type": "code",
   "execution_count": 3,
   "metadata": {
    "colab": {
     "base_uri": "https://localhost:8080/"
    },
    "executionInfo": {
     "elapsed": 3482,
     "status": "ok",
     "timestamp": 1647670070378,
     "user": {
      "displayName": "‍이지원[ 학부재학 / 컴퓨터융합소프트웨어학과 ]",
      "photoUrl": "https://lh3.googleusercontent.com/a-/AOh14GhB0ObNhQj97jmupEe4FXjuXCbzACeVuKfHIsAx=s64",
      "userId": "01379905428035943454"
     },
     "user_tz": -540
    },
    "id": "dBYH9bwryceh",
    "outputId": "79f76e6d-4ebf-41ac-afb4-99f1b8b4f32f"
   },
   "outputs": [
    {
     "name": "stdout",
     "output_type": "stream",
     "text": [
      "Requirement already satisfied: numpy in /Users/isdiscodead/opt/anaconda3/lib/python3.8/site-packages (1.22.3)\n",
      "Requirement already satisfied: matplotlib in /Users/isdiscodead/opt/anaconda3/lib/python3.8/site-packages (3.5.1)\n",
      "Requirement already satisfied: numpy>=1.17 in /Users/isdiscodead/opt/anaconda3/lib/python3.8/site-packages (from matplotlib) (1.22.3)\n",
      "Requirement already satisfied: packaging>=20.0 in /Users/isdiscodead/opt/anaconda3/lib/python3.8/site-packages (from matplotlib) (21.3)\n",
      "Requirement already satisfied: python-dateutil>=2.7 in /Users/isdiscodead/opt/anaconda3/lib/python3.8/site-packages (from matplotlib) (2.8.2)\n",
      "Requirement already satisfied: fonttools>=4.22.0 in /Users/isdiscodead/opt/anaconda3/lib/python3.8/site-packages (from matplotlib) (4.31.2)\n",
      "Requirement already satisfied: cycler>=0.10 in /Users/isdiscodead/opt/anaconda3/lib/python3.8/site-packages (from matplotlib) (0.11.0)\n",
      "Requirement already satisfied: pillow>=6.2.0 in /Users/isdiscodead/opt/anaconda3/lib/python3.8/site-packages (from matplotlib) (9.0.1)\n",
      "Requirement already satisfied: pyparsing>=2.2.1 in /Users/isdiscodead/opt/anaconda3/lib/python3.8/site-packages (from matplotlib) (3.0.4)\n",
      "Requirement already satisfied: kiwisolver>=1.0.1 in /Users/isdiscodead/opt/anaconda3/lib/python3.8/site-packages (from matplotlib) (1.4.0)\n",
      "Requirement already satisfied: six>=1.5 in /Users/isdiscodead/opt/anaconda3/lib/python3.8/site-packages (from python-dateutil>=2.7->matplotlib) (1.16.0)\n"
     ]
    }
   ],
   "source": [
    "!pip install numpy # 대부분의 데이터 분석 라이브러리는 설치 돼있어 설치하지 않아도 됨\n",
    "!pip install matplotlib"
   ]
  },
  {
   "cell_type": "code",
   "execution_count": 4,
   "metadata": {
    "id": "m9gDfJ9qyhF3"
   },
   "outputs": [],
   "source": [
    "import numpy as np\n",
    "import matplotlib.pyplot as plt # 배열을 시각화"
   ]
  },
  {
   "cell_type": "markdown",
   "metadata": {
    "id": "gVDkBg1PyxEH"
   },
   "source": [
    "# 1-1. N차원 배열(nd array) 생성하기\n",
    "3차원 이상의 nd array -> tensor\n",
    "\n",
    "axis = 축\n",
    "\n",
    "`np.array()`"
   ]
  },
  {
   "cell_type": "code",
   "execution_count": 5,
   "metadata": {
    "id": "w8aIj9BUzjE_"
   },
   "outputs": [],
   "source": [
    "# nd array는 리스트와 type이 다르다 !!\n",
    "# 1차원 배열\n",
    "arr = np.array([1,2,3])\n",
    "# 2차원 배열\n",
    "arr = np.array([[1,2,3],\n",
    "                [4,5,6]])"
   ]
  },
  {
   "cell_type": "code",
   "execution_count": 6,
   "metadata": {
    "id": "lrUj34-3zz6J"
   },
   "outputs": [],
   "source": [
    "# 리스트, 튜플을 사용해 nparray 생성도 가능\n",
    "tpl = (4,5,6)\n",
    "arr = np.array(tpl)\n",
    "\n",
    "list = [1,2,3]\n",
    "arr = np.array(list)"
   ]
  },
  {
   "cell_type": "code",
   "execution_count": 7,
   "metadata": {
    "colab": {
     "base_uri": "https://localhost:8080/"
    },
    "executionInfo": {
     "elapsed": 324,
     "status": "ok",
     "timestamp": 1647670625818,
     "user": {
      "displayName": "‍이지원[ 학부재학 / 컴퓨터융합소프트웨어학과 ]",
      "photoUrl": "https://lh3.googleusercontent.com/a-/AOh14GhB0ObNhQj97jmupEe4FXjuXCbzACeVuKfHIsAx=s64",
      "userId": "01379905428035943454"
     },
     "user_tz": -540
    },
    "id": "cyZutyVE0Ptv",
    "outputId": "6fdf3aa0-c177-451a-a3a4-2361c23eb650"
   },
   "outputs": [
    {
     "name": "stdout",
     "output_type": "stream",
     "text": [
      "(3,) (2, 3)\n"
     ]
    }
   ],
   "source": [
    "# array의 shape = 모양\n",
    "arr1 = np.array([1,2,3]) # (3,) -> numpy에서는 1차원 값을 row 벡터로 간주하므로 (3,)\n",
    "arr2 = np.array([[1,2,3], [4,5,6]]) # (2, 3) : 행2, 열3\n",
    "print(arr1.shape, arr2.shape)"
   ]
  },
  {
   "cell_type": "code",
   "execution_count": 8,
   "metadata": {
    "colab": {
     "base_uri": "https://localhost:8080/"
    },
    "executionInfo": {
     "elapsed": 3,
     "status": "ok",
     "timestamp": 1647670628871,
     "user": {
      "displayName": "‍이지원[ 학부재학 / 컴퓨터융합소프트웨어학과 ]",
      "photoUrl": "https://lh3.googleusercontent.com/a-/AOh14GhB0ObNhQj97jmupEe4FXjuXCbzACeVuKfHIsAx=s64",
      "userId": "01379905428035943454"
     },
     "user_tz": -540
    },
    "id": "bmrFiltw0oJM",
    "outputId": "e141cf32-d39f-4c44-a058-737bfda03413"
   },
   "outputs": [
    {
     "name": "stdout",
     "output_type": "stream",
     "text": [
      "1 2\n"
     ]
    }
   ],
   "source": [
    "# ndim = 차원 깊이\n",
    "print(arr1.ndim, arr2.ndim)"
   ]
  },
  {
   "cell_type": "code",
   "execution_count": 9,
   "metadata": {
    "colab": {
     "base_uri": "https://localhost:8080/"
    },
    "executionInfo": {
     "elapsed": 3,
     "status": "ok",
     "timestamp": 1647670639991,
     "user": {
      "displayName": "‍이지원[ 학부재학 / 컴퓨터융합소프트웨어학과 ]",
      "photoUrl": "https://lh3.googleusercontent.com/a-/AOh14GhB0ObNhQj97jmupEe4FXjuXCbzACeVuKfHIsAx=s64",
      "userId": "01379905428035943454"
     },
     "user_tz": -540
    },
    "id": "vY2GvXHn0o5s",
    "outputId": "37aa8926-803e-4492-c6f8-4c6122e75321"
   },
   "outputs": [
    {
     "name": "stdout",
     "output_type": "stream",
     "text": [
      "3 6\n"
     ]
    }
   ],
   "source": [
    "# size\n",
    "print(arr1.size, arr2.size)"
   ]
  },
  {
   "cell_type": "markdown",
   "metadata": {
    "id": "dFSVQy1s3AjP"
   },
   "source": [
    "# 1-2. N차원 배열의 데이터 타입\n",
    "\n",
    "array 생성 시 `dtype` 인자를 통해 직접 데이터 타입 설정 가능\n",
    "\n",
    "이미 생성된 경우 `astype()` 함수 사용\n"
   ]
  },
  {
   "cell_type": "code",
   "execution_count": 10,
   "metadata": {
    "colab": {
     "base_uri": "https://localhost:8080/"
    },
    "executionInfo": {
     "elapsed": 3,
     "status": "ok",
     "timestamp": 1647671532665,
     "user": {
      "displayName": "‍이지원[ 학부재학 / 컴퓨터융합소프트웨어학과 ]",
      "photoUrl": "https://lh3.googleusercontent.com/a-/AOh14GhB0ObNhQj97jmupEe4FXjuXCbzACeVuKfHIsAx=s64",
      "userId": "01379905428035943454"
     },
     "user_tz": -540
    },
    "id": "k5I3cYyy3LNe",
    "outputId": "1a0a89d4-31a8-48cd-ed74-4ab57035702f"
   },
   "outputs": [
    {
     "name": "stdout",
     "output_type": "stream",
     "text": [
      "[ True  True False] bool\n"
     ]
    }
   ],
   "source": [
    "arr = np.array([1.1,2.2,3.3], dtype=int) # int 타입\n",
    "arr = np.array([1,2,3], dtype=float) # float 타입\n",
    "arr = np.array([1,2,0], dtype=bool) # bool 타입 ( 0만 false )\n",
    "print(arr, arr.dtype)"
   ]
  },
  {
   "cell_type": "code",
   "execution_count": 11,
   "metadata": {
    "colab": {
     "base_uri": "https://localhost:8080/"
    },
    "executionInfo": {
     "elapsed": 266,
     "status": "ok",
     "timestamp": 1647671597489,
     "user": {
      "displayName": "‍이지원[ 학부재학 / 컴퓨터융합소프트웨어학과 ]",
      "photoUrl": "https://lh3.googleusercontent.com/a-/AOh14GhB0ObNhQj97jmupEe4FXjuXCbzACeVuKfHIsAx=s64",
      "userId": "01379905428035943454"
     },
     "user_tz": -540
    },
    "id": "QojZSiGs3pAD",
    "outputId": "57171b31-6b70-4cce-c8d9-ea6e37c6f910"
   },
   "outputs": [
    {
     "name": "stdout",
     "output_type": "stream",
     "text": [
      "[1. 1. 0.] float32\n"
     ]
    }
   ],
   "source": [
    "# 이미 선언된 배열의 타입 변경 시 astype() 사용\n",
    "arr = arr.astype(np.float32)\n",
    "print(arr, arr.dtype)"
   ]
  },
  {
   "cell_type": "code",
   "execution_count": 12,
   "metadata": {
    "colab": {
     "base_uri": "https://localhost:8080/"
    },
    "executionInfo": {
     "elapsed": 268,
     "status": "ok",
     "timestamp": 1647671650386,
     "user": {
      "displayName": "‍이지원[ 학부재학 / 컴퓨터융합소프트웨어학과 ]",
      "photoUrl": "https://lh3.googleusercontent.com/a-/AOh14GhB0ObNhQj97jmupEe4FXjuXCbzACeVuKfHIsAx=s64",
      "userId": "01379905428035943454"
     },
     "user_tz": -540
    },
    "id": "ckgC_uQG4VYK",
    "outputId": "cd61da5c-3fc1-4e4b-d8bc-627977e8fad7"
   },
   "outputs": [
    {
     "name": "stdout",
     "output_type": "stream",
     "text": [
      "['1' '2' '3.4' '52'] <U32\n"
     ]
    }
   ],
   "source": [
    "# 데이터 타입이 혼재하는 경우 -> 기본적으로는 가장 포괄적인 데이터 타입으로 통일됨\n",
    "# 문자열 - Int 등 변환 불가능할 경우 오류 발생 !! \n",
    "arr = np.array([1, 2, 3.4, \"52\"])\n",
    "print(arr, arr.dtype)"
   ]
  },
  {
   "cell_type": "markdown",
   "metadata": {
    "id": "rcPZP8vt4pjA"
   },
   "source": [
    "# 1-3. 정해진 형식의 N차원 배열 생성하기\n",
    "\n",
    "`np.zeros(shape)` / `np.ones(shape)` / `np.full(shape, value)` / `np.eye(r, c, k)`\n"
   ]
  },
  {
   "cell_type": "code",
   "execution_count": 13,
   "metadata": {
    "colab": {
     "base_uri": "https://localhost:8080/"
    },
    "executionInfo": {
     "elapsed": 276,
     "status": "ok",
     "timestamp": 1647854106727,
     "user": {
      "displayName": "‍이지원[ 학부재학 / 컴퓨터융합소프트웨어학과 ]",
      "photoUrl": "https://lh3.googleusercontent.com/a-/AOh14GhB0ObNhQj97jmupEe4FXjuXCbzACeVuKfHIsAx=s64",
      "userId": "01379905428035943454"
     },
     "user_tz": -540
    },
    "id": "l8YjA1Zh4or-",
    "outputId": "4b123cd0-eca2-4a0a-cb35-9d5d0c56127c"
   },
   "outputs": [
    {
     "name": "stdout",
     "output_type": "stream",
     "text": [
      "[[0. 1. 0. 0.]\n",
      " [0. 0. 1. 0.]\n",
      " [0. 0. 0. 1.]]\n"
     ]
    }
   ],
   "source": [
    "# np.zeros(shape) 0으로 초기화\n",
    "arr = np.zeros([2,2])\n",
    "\n",
    "# np.ones(shape) 1로 초기화\n",
    "arr = np.ones([3,5])\n",
    "\n",
    "# np.full(shape, value) value로 초기화\n",
    "arr = np.full((2,3), 5)\n",
    "\n",
    "# np.eye() # 대각원소 1으로 초기화, k는 발생 지점\n",
    "arr = np.eye(3, 4, k=1)\n",
    "print(arr)\n"
   ]
  },
  {
   "cell_type": "code",
   "execution_count": 14,
   "metadata": {
    "id": "X9IN_oTrwdHN"
   },
   "outputs": [],
   "source": [
    "# 지정된 배열과 동일하게\n",
    "arr = np.array([[1,2,3],\n",
    "                [4,5,6]])\n",
    "\n",
    "# np.zeros_like(arr) shape은 동일하게, 0으로 초기화\n",
    "arr_z = np.zeros_like(arr)\n",
    "\n",
    "# np.ones_like(arr) shape은 동일하게, 1으로 초기화 \n",
    "arr_o = np.ones_like(arr)\n",
    "\n",
    "# np.\bfull_like(arr, value) shape은 동일하게, value로 초기화 \n",
    "arr_f = np.full_like(arr, 9)\n",
    " "
   ]
  },
  {
   "cell_type": "markdown",
   "metadata": {
    "id": "C7z4yVkUxcpU"
   },
   "source": [
    "#1-4. 특정 범위의 값을 가지는 N차원 배열 생성하기\n",
    "`np.arange(start, stop, step)`\n",
    "\n",
    "`np.arange(start, stop, num)`"
   ]
  },
  {
   "cell_type": "code",
   "execution_count": 15,
   "metadata": {
    "id": "6vYkReFEnDUO"
   },
   "outputs": [],
   "source": [
    "arr = range(0,9,2) # 0부터 9미만까지 2step 단위로 정수 List 생성\n",
    "arr = np.arange(0,9,2) # range() 함수와 동일하게 ndarray 생성"
   ]
  },
  {
   "cell_type": "code",
   "execution_count": 16,
   "metadata": {
    "id": "LN0vM7n7neCz"
   },
   "outputs": [],
   "source": [
    "# np.linspace(start, stop, num) \n",
    "# stop 포함, num 개의 원소를 균등한 간격으로 생성\n",
    "arr = np.linspace(0, 100, 11)"
   ]
  },
  {
   "cell_type": "code",
   "execution_count": 17,
   "metadata": {
    "id": "h2tofUqyoiuJ"
   },
   "outputs": [],
   "source": [
    "# np.logspace(start, stop, num, base=10) \n",
    "# base는 로그의 밑 값\n",
    "# log값 스케일의 linspace ... 지정된 범위 내에서 num개를 일정 간격으로 log 스케일의 값을 넣어 생성"
   ]
  },
  {
   "cell_type": "markdown",
   "metadata": {
    "id": "oBkEddJupW69"
   },
   "source": [
    "#1-5. 난수로 이루어진 N차원 배열 생성하기\n",
    "`np.random.normal(loc평균값, scale표준편차, size)`\n",
    "\n",
    "`np.random.rand(n)`\n",
    "\n",
    "`np.random.randn(n)`\n",
    "\n",
    "`np.random.randint(low, high, size)`"
   ]
  },
  {
   "cell_type": "code",
   "execution_count": 18,
   "metadata": {
    "colab": {
     "base_uri": "https://localhost:8080/",
     "height": 265
    },
    "executionInfo": {
     "elapsed": 696,
     "status": "ok",
     "timestamp": 1647919640791,
     "user": {
      "displayName": "‍이지원[ 학부재학 / 컴퓨터융합소프트웨어학과 ]",
      "photoUrl": "https://lh3.googleusercontent.com/a-/AOh14GhB0ObNhQj97jmupEe4FXjuXCbzACeVuKfHIsAx=s64",
      "userId": "01379905428035943454"
     },
     "user_tz": -540
    },
    "id": "iD6vnvOHo-Pn",
    "outputId": "182c3e78-7b4c-4ef7-c048-e7a5f8929d99"
   },
   "outputs": [
    {
     "data": {
      "image/png": "[encoded data removed]",
      "text/plain": [
       "<Figure size 432x288 with 1 Axes>"
      ]
     },
     "metadata": {
      "needs_background": "light"
     },
     "output_type": "display_data"
    }
   ],
   "source": [
    "# np.random.normal(loc평균값, scale표준편차, size)\n",
    "# 정규 분포의 확률 밀도에서 값을 추출\n",
    "# size 부분을 shape으로 지정도 가능\n",
    "arr = np.random.normal(0, 1, 1000)\n",
    "# bins는 구간 개수\n",
    "plt.hist(arr, bins=100)\n",
    "plt.show()"
   ]
  },
  {
   "cell_type": "code",
   "execution_count": 19,
   "metadata": {
    "colab": {
     "base_uri": "https://localhost:8080/",
     "height": 265
    },
    "executionInfo": {
     "elapsed": 1018,
     "status": "ok",
     "timestamp": 1647919744214,
     "user": {
      "displayName": "‍이지원[ 학부재학 / 컴퓨터융합소프트웨어학과 ]",
      "photoUrl": "https://lh3.googleusercontent.com/a-/AOh14GhB0ObNhQj97jmupEe4FXjuXCbzACeVuKfHIsAx=s64",
      "userId": "01379905428035943454"
     },
     "user_tz": -540
    },
    "id": "k_NS9oFno4C2",
    "outputId": "2275b00d-995f-4232-8bbd-c51bf1c6bb2b"
   },
   "outputs": [
    {
     "data": {
      "image/png": "[encoded data removed]",
      "text/plain": [
       "<Figure size 432x288 with 1 Axes>"
      ]
     },
     "metadata": {
      "needs_background": "light"
     },
     "output_type": "display_data"
    }
   ],
   "source": [
    "# np.random.rand(n)\n",
    "# 0 ~ 1 사이의 값을 균등한 비율로 n개 추출\n",
    "arr = np.random.rand(1000)\n",
    "plt.hist(arr, bins=100)\n",
    "plt.show()"
   ]
  },
  {
   "cell_type": "code",
   "execution_count": 20,
   "metadata": {
    "colab": {
     "base_uri": "https://localhost:8080/",
     "height": 265
    },
    "executionInfo": {
     "elapsed": 1145,
     "status": "ok",
     "timestamp": 1647919916022,
     "user": {
      "displayName": "‍이지원[ 학부재학 / 컴퓨터융합소프트웨어학과 ]",
      "photoUrl": "https://lh3.googleusercontent.com/a-/AOh14GhB0ObNhQj97jmupEe4FXjuXCbzACeVuKfHIsAx=s64",
      "userId": "01379905428035943454"
     },
     "user_tz": -540
    },
    "id": "C1w4z6jtq71o",
    "outputId": "72a8bbc3-3935-49f6-b04d-b346f84873a3"
   },
   "outputs": [
    {
     "data": {
      "image/png": "[encoded data removed]",
      "text/plain": [
       "<Figure size 432x288 with 1 Axes>"
      ]
     },
     "metadata": {
      "needs_background": "light"
     },
     "output_type": "display_data"
    }
   ],
   "source": [
    "# np.random.randn() \n",
    "# -1 ~ 1 사이의 값을 균등한 비율로 n개 추출 ( 가우시안 분포 )\n",
    "arr = np.random.randn(1000)\n",
    "plt.hist(arr, bins=100)\n",
    "plt.show()"
   ]
  },
  {
   "cell_type": "code",
   "execution_count": 21,
   "metadata": {
    "id": "wwuu3YuqrlvU"
   },
   "outputs": [],
   "source": [
    "# np.random.randint(low, high, size) \n",
    "# low 이상 high 미만의 랜덤한 정수 size개 출력 \n",
    "arr = np.random.randint(low=1, high=5, size=(3,4))"
   ]
  },
  {
   "cell_type": "markdown",
   "metadata": {
    "id": "wa3Bl8X1IjBW"
   },
   "source": [
    "# 1-6. 시드 ( Seed ) 값을 통한 난수 생성 제어\n",
    "난수 생성 방식 : 특정 시점 -> 난수처럼 보이는 수열 생성\n",
    "특정 시점을 지정하여 난수 생성 제어 가능 "
   ]
  },
  {
   "cell_type": "code",
   "execution_count": 22,
   "metadata": {
    "id": "JM3JLMywr4fL"
   },
   "outputs": [
    {
     "name": "stdout",
     "output_type": "stream",
     "text": [
      "난수 발생 1 \n",
      " [0.77132064 0.02075195 0.63364823 0.74880388 0.49850701 0.22479665\n",
      " 0.19806286 0.76053071 0.16911084 0.08833981]\n",
      "난수 발생 2 \n",
      " [0.77132064 0.02075195 0.63364823 0.74880388 0.49850701 0.22479665\n",
      " 0.19806286 0.76053071 0.16911084 0.08833981]\n"
     ]
    }
   ],
   "source": [
    "np.random.seed(10)\n",
    "arr = np.random.rand(10)\n",
    "print(\"난수 발생 1 \\n\", arr)\n",
    "\n",
    "np.random.seed(10)\n",
    "arr = np.random.rand(10)\n",
    "print(\"난수 발생 2 \\n\", arr) "
   ]
  }
 ],
 "metadata": {
  "colab": {
   "authorship_tag": "ABX9TyP3K1OWil4804iJ/8/rRoEd",
   "collapsed_sections": [
    "gVDkBg1PyxEH",
    "dFSVQy1s3AjP",
    "rcPZP8vt4pjA",
    "C7z4yVkUxcpU"
   ],
   "name": "NumPy_Chap1_create_ndarray.ipynb",
   "provenance": []
  },
  "kernelspec": {
   "display_name": "Python 3 (ipykernel)",
   "language": "python",
   "name": "python3"
  },
  "language_info": {
   "codemirror_mode": {
    "name": "ipython",
    "version": 3
   },
   "file_extension": ".py",
   "mimetype": "text/x-python",
   "name": "python",
   "nbconvert_exporter": "python",
   "pygments_lexer": "ipython3",
   "version": "3.8.5"
  }
 },
 "nbformat": 4,
 "nbformat_minor": 1
}

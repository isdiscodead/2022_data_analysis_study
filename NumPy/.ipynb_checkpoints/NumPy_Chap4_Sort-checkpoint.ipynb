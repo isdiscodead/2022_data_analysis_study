{
 "cells": [
  {
   "cell_type": "markdown",
   "id": "e64c0e88",
   "metadata": {},
   "source": [
    "## 4-1. 1차원 배열의 정렬"
   ]
  },
  {
   "cell_type": "code",
   "execution_count": 3,
   "id": "40451ed3",
   "metadata": {},
   "outputs": [],
   "source": [
    "import numpy as np"
   ]
  },
  {
   "cell_type": "code",
   "execution_count": 4,
   "id": "5a685498",
   "metadata": {},
   "outputs": [
    {
     "name": "stdout",
     "output_type": "stream",
     "text": [
      "[0 5 2 4 0 9 6 4 3 6]\n"
     ]
    }
   ],
   "source": [
    "arr = np.random.randint(10, size=10)\n",
    "print(arr)"
   ]
  },
  {
   "cell_type": "code",
   "execution_count": 6,
   "id": "bfa7c6b6",
   "metadata": {},
   "outputs": [
    {
     "name": "stdout",
     "output_type": "stream",
     "text": [
      "[0 0 2 3 4 4 5 6 6 9]\n",
      "[9 6 6 5 4 4 3 2 0 0]\n",
      "[0 0 2 3 4 4 5 6 6 9]\n"
     ]
    }
   ],
   "source": [
    "# 원본 정렬 X\n",
    "# print(np.sort(arr)) # 오름차순\n",
    "print(arr)\n",
    "arr = np.sort(arr)[::-1] # 정렬 후 역순으로 \n",
    "print(arr)\n",
    "arr.sort()\n",
    "print(arr)"
   ]
  },
  {
   "cell_type": "markdown",
   "id": "0eb91c54",
   "metadata": {},
   "source": [
    "### 4-2. 2차원 배열의 정렬"
   ]
  },
  {
   "cell_type": "code",
   "execution_count": 8,
   "id": "1309421e",
   "metadata": {},
   "outputs": [
    {
     "name": "stdout",
     "output_type": "stream",
     "text": [
      "[[ 5 13  2 12]\n",
      " [ 1  1  0  3]\n",
      " [ 8  5  5  3]]\n"
     ]
    }
   ],
   "source": [
    "arr = np.random.randint(15, size=(3,4))\n",
    "print(arr)"
   ]
  },
  {
   "cell_type": "code",
   "execution_count": 10,
   "id": "baca4a2c",
   "metadata": {},
   "outputs": [
    {
     "name": "stdout",
     "output_type": "stream",
     "text": [
      "[[ 2  5 12 13]\n",
      " [ 0  1  1  3]\n",
      " [ 3  5  5  8]]\n"
     ]
    }
   ],
   "source": [
    "print(np.sort(arr)) # 각각의 행에서 정렬 ( axis = 1 )"
   ]
  },
  {
   "cell_type": "code",
   "execution_count": 13,
   "id": "5a19027f",
   "metadata": {},
   "outputs": [
    {
     "name": "stdout",
     "output_type": "stream",
     "text": [
      "[[ 1  1  0  3]\n",
      " [ 5  5  2  3]\n",
      " [ 8 13  5 12]]\n"
     ]
    }
   ],
   "source": [
    "print(np.sort(arr, axis=0)) # 각각의 열에서 정렬"
   ]
  },
  {
   "cell_type": "code",
   "execution_count": 16,
   "id": "5ddd62cc",
   "metadata": {},
   "outputs": [
    {
     "name": "stdout",
     "output_type": "stream",
     "text": [
      "[ 0  1  1  2  3  3  5  5  5  8 12 13]\n"
     ]
    }
   ],
   "source": [
    "print(np.sort(arr, axis=None)) # 1차원 배열로 풀어서 정렬"
   ]
  },
  {
   "cell_type": "code",
   "execution_count": 20,
   "id": "168bad26",
   "metadata": {},
   "outputs": [
    {
     "name": "stdout",
     "output_type": "stream",
     "text": [
      "[[ 2  5 12 13]\n",
      " [ 0  1  1  3]\n",
      " [ 3  5  5  8]]\n",
      "\n",
      "[[2 0 3 1]\n",
      " [2 0 1 3]\n",
      " [3 1 2 0]]\n"
     ]
    }
   ],
   "source": [
    "# argsort() -> 원소가 정렬됐을 때, 해당 원소의 원래 인덱스 반환\n",
    "print(np.sort(arr, axis=1))\n",
    "print()\n",
    "print(np.argsort(arr, axis=1))"
   ]
  },
  {
   "cell_type": "code",
   "execution_count": null,
   "id": "9215572a",
   "metadata": {},
   "outputs": [],
   "source": []
  }
 ],
 "metadata": {
  "kernelspec": {
   "display_name": "Python 3 (ipykernel)",
   "language": "python",
   "name": "python3"
  },
  "language_info": {
   "codemirror_mode": {
    "name": "ipython",
    "version": 3
   },
   "file_extension": ".py",
   "mimetype": "text/x-python",
   "name": "python",
   "nbconvert_exporter": "python",
   "pygments_lexer": "ipython3",
   "version": "3.8.5"
  }
 },
 "nbformat": 4,
 "nbformat_minor": 5
}
